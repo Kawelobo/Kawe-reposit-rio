{
  "nbformat": 4,
  "nbformat_minor": 0,
  "metadata": {
    "colab": {
      "provenance": [],
      "include_colab_link": true
    },
    "kernelspec": {
      "name": "python3",
      "display_name": "Python 3"
    },
    "language_info": {
      "name": "python"
    }
  },
  "cells": [
    {
      "cell_type": "markdown",
      "metadata": {
        "id": "view-in-github",
        "colab_type": "text"
      },
      "source": [
        "<a href=\"https://colab.research.google.com/github/Kawelobo/Kawe-reposit-rio/blob/main/C%C3%B3pia_de_Untitled2_(1).ipynb\" target=\"_parent\"><img src=\"https://colab.research.google.com/assets/colab-badge.svg\" alt=\"Open In Colab\"/></a>"
      ]
    },
    {
      "cell_type": "markdown",
      "source": [
        "1) Crie uma lista com 6 números inteiros e mostre esses números na tela"
      ],
      "metadata": {
        "id": "kOUdk0bRDHSf"
      }
    },
    {
      "cell_type": "code",
      "execution_count": null,
      "metadata": {
        "colab": {
          "base_uri": "https://localhost:8080/"
        },
        "id": "pJ3O-tZKADQb",
        "outputId": "5e9720d4-dd07-4c26-a53c-7ee9116171cc"
      },
      "outputs": [
        {
          "output_type": "stream",
          "name": "stdout",
          "text": [
            "1) [1, 2, 3, 4, 5, 6]\n"
          ]
        }
      ],
      "source": [
        "lista1 = [1, 2, 3, 4, 5, 6]\n",
        "print(\"1)\", lista1)"
      ]
    },
    {
      "cell_type": "markdown",
      "source": [
        "2) Crie uma lista com 5 números reais (float) e mostre esses números na\n",
        "tela."
      ],
      "metadata": {
        "id": "p2jumiiEDKx_"
      }
    },
    {
      "cell_type": "code",
      "source": [
        "lista2 = [1.1, 2.2, 3.3, 4.4, 5.5]\n",
        "print(\"2)\", lista2)\n"
      ],
      "metadata": {
        "colab": {
          "base_uri": "https://localhost:8080/"
        },
        "id": "ocK1W66MAGif",
        "outputId": "5b4fec68-3eb2-4747-9302-15707455925d"
      },
      "execution_count": null,
      "outputs": [
        {
          "output_type": "stream",
          "name": "stdout",
          "text": [
            "2) [1.1, 2.2, 3.3, 4.4, 5.5]\n"
          ]
        }
      ]
    },
    {
      "cell_type": "markdown",
      "source": [
        "3) Crie uma lista com 7 strings e mostre essas strings na tela."
      ],
      "metadata": {
        "id": "Va7F9zL-DOcT"
      }
    },
    {
      "cell_type": "code",
      "source": [
        "lista3 = [\"casa\", \"carro\", \"bola\", \"livro\", \"caneta\", \"mesa\", \"porta\"]\n",
        "print(\"3)\", lista3)"
      ],
      "metadata": {
        "id": "6J6QMapFAGe8"
      },
      "execution_count": null,
      "outputs": []
    },
    {
      "cell_type": "markdown",
      "source": [
        "4) Faça um programa que, dado uma lista de números inteiros, mostre na\n",
        "tela o menor valor e o maior valor dessa lista. Faça de duas formas: com\n",
        "e sem as built-in functions.\n"
      ],
      "metadata": {
        "id": "9YwTbc3ADQog"
      }
    },
    {
      "cell_type": "code",
      "source": [
        "lista4 = [3, 6, 1, 9, 0, -2, 8]\n",
        "print(\"4.1) Menor:\", min(lista4), \"Maior:\", max(lista4))\n",
        "menor = lista4[0]\n",
        "maior = lista4[0]\n",
        "for num in lista4:\n",
        "    if num < menor:\n",
        "        menor = num\n",
        "    if num > maior:\n",
        "        maior = num\n",
        "print(\"4.2) Menor:\", menor, \"Maior:\", maior)\n"
      ],
      "metadata": {
        "colab": {
          "base_uri": "https://localhost:8080/"
        },
        "id": "ptB1ZRlqAGag",
        "outputId": "1126a34c-42dd-4ca1-f16b-59c37c994bfe"
      },
      "execution_count": null,
      "outputs": [
        {
          "output_type": "stream",
          "name": "stdout",
          "text": [
            "4.1) Menor: -2 Maior: 9\n",
            "4.2) Menor: -2 Maior: 9\n"
          ]
        }
      ]
    },
    {
      "cell_type": "markdown",
      "source": [
        "5) Crie uma lista com 10 números inteiros. A partir dele, crie outra lista onde\n",
        "cada elemento de índice par é o quadrado dos elementos da primeiro lista\n",
        "e os de índice ímpar são o dobro.\n"
      ],
      "metadata": {
        "id": "UrN62Zy4DTwZ"
      }
    },
    {
      "cell_type": "code",
      "source": [
        "lista5 = [1,2,3,4,5,6,7,8,9,10]\n",
        "nova_lista5 = [x**2 if i % 2 == 0 else x*2 for i, x in enumerate(lista5)]\n",
        "print(\"5)\", nova_lista5)"
      ],
      "metadata": {
        "colab": {
          "base_uri": "https://localhost:8080/"
        },
        "id": "PRb11KIOAGYC",
        "outputId": "58fe11d8-fcf2-438e-d1fb-0ed33f6892c8"
      },
      "execution_count": null,
      "outputs": [
        {
          "output_type": "stream",
          "name": "stdout",
          "text": [
            "5) [1, 4, 9, 8, 25, 12, 49, 16, 81, 20]\n"
          ]
        }
      ]
    },
    {
      "cell_type": "markdown",
      "source": [
        "6) Crie uma lista de 10 elementos e rotacione para a direita (o último passa\n",
        "a ser o primeiro, assim por diante).\n"
      ],
      "metadata": {
        "id": "es0Zf0vLDXD_"
      }
    },
    {
      "cell_type": "code",
      "source": [
        "lista6 = [1,2,3,4,5,6,7,8,9,10]\n",
        "rotacionada = [lista6[-1]] + lista6[:-1]\n",
        "print(\"6)\", rotacionada)"
      ],
      "metadata": {
        "colab": {
          "base_uri": "https://localhost:8080/"
        },
        "id": "erRwPU3xBIUG",
        "outputId": "cdf6ab14-d119-4dc4-ade1-1e76bfdf2fe4"
      },
      "execution_count": null,
      "outputs": [
        {
          "output_type": "stream",
          "name": "stdout",
          "text": [
            "6) [10, 1, 2, 3, 4, 5, 6, 7, 8, 9]\n"
          ]
        }
      ]
    },
    {
      "cell_type": "markdown",
      "source": [
        "7) Faça um programa que lê 8 números inteiros, calcula a média, a mediana,\n",
        "a moda, a variância e o desvio padrão desses números, mostrando os\n",
        "resultados na tela."
      ],
      "metadata": {
        "id": "QADliouqDbda"
      }
    },
    {
      "cell_type": "code",
      "source": [
        "import statistics\n",
        "\n",
        "lista7 = [1, 2, 2, 4, 6, 6, 6, 9]\n",
        "media = statistics.mean(lista7)\n",
        "mediana = statistics.median(lista7)\n",
        "moda = statistics.mode(lista7)\n",
        "variancia = statistics.variance(lista7)\n",
        "desvio = statistics.stdev(lista7)\n",
        "print(\"7)\", f\"Média: {media}, Mediana: {mediana}, Moda: {moda}, Variância: {variancia}, Desvio padrão: {desvio}\")"
      ],
      "metadata": {
        "colab": {
          "base_uri": "https://localhost:8080/"
        },
        "id": "j0JCpaFtBISC",
        "outputId": "a76f03a5-cc1f-4330-de72-5e89792a588f"
      },
      "execution_count": null,
      "outputs": [
        {
          "output_type": "stream",
          "name": "stdout",
          "text": [
            "7) Média: 4.5, Mediana: 5.0, Moda: 6, Variância: 7.428571428571429, Desvio padrão: 2.7255405754769875\n"
          ]
        }
      ]
    },
    {
      "cell_type": "markdown",
      "source": [
        "8) Crie uma lista com pelo menos 20 números inteiros positivos menores do\n",
        "que 10. Então, o programa deverá mostrar quantas vezes cada um desses\n",
        "números aparece na lista. Mostre na tela o número e quantas vezes ele\n",
        "apareceu (mostre apenas uma vez para cada número diferente)."
      ],
      "metadata": {
        "id": "5gLuTP8LDfu2"
      }
    },
    {
      "cell_type": "code",
      "source": [
        "lista8 = [random.randint(0, 9) for _ in range(20)]\n",
        "print(\"8) Lista:\", lista8)\n",
        "for num in set(lista8):\n",
        "    print(f\"Número {num} apareceu {lista8.count(num)} vezes\")"
      ],
      "metadata": {
        "id": "U76PWRCvBIPn"
      },
      "execution_count": null,
      "outputs": []
    },
    {
      "cell_type": "markdown",
      "source": [
        "9) Utilizando função randint da biblioteca random, popule uma lista chamada\n",
        "dados com 20 números inteiros aleatórios entre -10 e 10. Crie duas listas\n",
        "vazias chamadas negativos e positivos. Coloque os elementos\n",
        "negativos e positivos (o zero entrará nessa última lista) da primeira lista\n",
        "em suas listas correspondentes. Mostre as listas negativos e positivos na\n",
        "tela.\n"
      ],
      "metadata": {
        "id": "T4RS151vDjm6"
      }
    },
    {
      "cell_type": "code",
      "source": [
        "dados = [random.randint(-10, 10) for _ in range(20)]\n",
        "negativos = [x for x in dados if x < 0]\n",
        "positivos = [x for x in dados if x >= 0]\n",
        "print(\"9) Dados:\", dados)\n",
        "print(\"Negativos:\", negativos)\n",
        "print(\"Positivos:\", positivos)"
      ],
      "metadata": {
        "colab": {
          "base_uri": "https://localhost:8080/"
        },
        "id": "HOOCsDkqBINj",
        "outputId": "c294d6ff-7514-4655-93db-b76d9b1b6f27"
      },
      "execution_count": null,
      "outputs": [
        {
          "output_type": "stream",
          "name": "stdout",
          "text": [
            "9) Dados: [-7, -6, 2, 9, 9, -4, 9, -9, 1, 0, -4, -6, 0, 2, 1, 5, -4, 10, 2, 3]\n",
            "Negativos: [-7, -6, -4, -9, -4, -6, -4]\n",
            "Positivos: [2, 9, 9, 9, 1, 0, 0, 2, 1, 5, 10, 2, 3]\n"
          ]
        }
      ]
    },
    {
      "cell_type": "markdown",
      "source": [
        "10) Utilizando função randint da biblioteca random, popule uma lista com 30\n",
        "valores aleatórios entre -20 e 20. Depois, retire os elementos negativos\n",
        "da lista.\n"
      ],
      "metadata": {
        "id": "9ecl9w3ODnBO"
      }
    },
    {
      "cell_type": "code",
      "source": [
        "lista10 = [random.randint(-20, 20) for _ in range(30)]\n",
        "positivos10 = [x for x in lista10 if x >= 0]\n",
        "print(\"10) Lista sem negativos:\", positivos10)\n"
      ],
      "metadata": {
        "colab": {
          "base_uri": "https://localhost:8080/"
        },
        "id": "6rj3zv48BILX",
        "outputId": "8c52756f-d989-4155-b1e0-007d27a55e48"
      },
      "execution_count": null,
      "outputs": [
        {
          "output_type": "stream",
          "name": "stdout",
          "text": [
            "10) Lista sem negativos: [11, 18, 18, 2, 0, 1, 13, 12, 1, 9, 13, 1, 17, 5]\n"
          ]
        }
      ]
    },
    {
      "cell_type": "markdown",
      "source": [
        "11) Utilizando função random da biblioteca random, popule uma lista com\n",
        "1000 números aleatórios (esses estarão no intervalo de 0 a 1). Depois,\n",
        "multiplique cada um desses números por 100, atualizando a própria lista.\n",
        "Então, calcule a quantidade de números que estão presentes em\n",
        "intervalos de 5 em 5 (de 0 a 5, de 5 a 10, de 10 a 15, etc) e armazene em\n",
        "outra lista. Por fim, mostre esse resultado na tela.\n"
      ],
      "metadata": {
        "id": "3Q7EyaPODqDM"
      }
    },
    {
      "cell_type": "code",
      "source": [
        "lista11 = [random.random() for _ in range(1000)]\n",
        "lista11 = [x * 100 for x in lista11]\n",
        "contagem = [0]*20\n",
        "for n in lista11:\n",
        "    contagem[int(n // 5)] += 1\n",
        "print(\"11) Contagem por intervalo:\", contagem)"
      ],
      "metadata": {
        "colab": {
          "base_uri": "https://localhost:8080/"
        },
        "id": "Qhb3YTwFBIIk",
        "outputId": "561765e2-fb03-4bd7-bb79-8566bbffba98"
      },
      "execution_count": null,
      "outputs": [
        {
          "output_type": "stream",
          "name": "stdout",
          "text": [
            "11) Contagem por intervalo: [64, 64, 49, 55, 46, 58, 51, 51, 46, 39, 36, 48, 49, 47, 52, 38, 58, 37, 63, 49]\n"
          ]
        }
      ]
    },
    {
      "cell_type": "markdown",
      "source": [
        "12) Utilizando função random da biblioteca random, popule uma lista\n",
        "chamada fitness com 1000 números aleatórios (esses estarão no\n",
        "intervalo de 0 a 1). Depois, faça um for com 100.000 iterações procurando\n",
        "o menor valor da lista fitness e altere o valor do menor e de seus dois\n",
        "vizinhos, colocando outros valores aleatórios nos três lugares (utilize a\n",
        "função random novamente para isso). Obs.: “vizinhos” são os números\n",
        "que vêm antes e depois do menor encontrado. Utilize o primeiro elemento\n",
        "da lista como o vizinho do último elemento da lista e vice-versa (isso se\n",
        "chama “condições de contorno periódica).\n"
      ],
      "metadata": {
        "id": "ANIWmnBlDtsk"
      }
    },
    {
      "cell_type": "code",
      "source": [
        "import random\n",
        "\n",
        "fitness = [random.random() for _ in range(1000)]\n",
        "for _ in range(100000):\n",
        "    idx = fitness.index(min(fitness))\n",
        "    fitness[idx] = random.random()\n",
        "    fitness[(idx-1)%1000] = random.random()\n",
        "    fitness[(idx+1)%1000] = random.random()\n",
        "print(\"12) Menor valor após otimização:\", min(fitness))"
      ],
      "metadata": {
        "colab": {
          "base_uri": "https://localhost:8080/"
        },
        "id": "vnjZwthrBIGG",
        "outputId": "4fb6188f-a8ab-4c14-b25e-4c65b7f028f2"
      },
      "execution_count": null,
      "outputs": [
        {
          "output_type": "stream",
          "name": "stdout",
          "text": [
            "12) Menor valor após otimização: 0.23242962368521158\n"
          ]
        }
      ]
    },
    {
      "cell_type": "markdown",
      "source": [
        "13) Faça um programa que peça uma frase/texto para o usuário e armazene\n",
        "na variável texto. O programa deverá deixar cada palavra do texto com a\n",
        "primeira e com a última letra maiúscula e a restante minúscula e\n",
        "armazene na variável texto o resultado. Mostre a variável texto na tela.\n"
      ],
      "metadata": {
        "id": "NKE08N6ODxM0"
      }
    },
    {
      "cell_type": "code",
      "source": [
        "texto = input(\"13) Digite um texto: \")\n",
        "texto_mod = ' '.join([p[0].upper() + p[1:-1].lower() + p[-1].upper() if len(p) > 1 else p.upper() for p in texto.split()])\n",
        "print(\"Texto modificado:\", texto_mod)"
      ],
      "metadata": {
        "colab": {
          "base_uri": "https://localhost:8080/"
        },
        "id": "8ufN2NazBIDr",
        "outputId": "daec2a5f-898c-4437-d667-6c9f8a6e57e9"
      },
      "execution_count": null,
      "outputs": [
        {
          "output_type": "stream",
          "name": "stdout",
          "text": [
            "13) Digite um texto: kawe é lindo\n",
            "Texto modificado: KawE É LindO\n"
          ]
        }
      ]
    },
    {
      "cell_type": "markdown",
      "source": [
        "14) Utilizando list comprehension, faça uma lista com o tamanho de cada\n",
        "palavra de um texto (string) informado pelo usuário. (Cada posição da lista\n",
        "será o tamanho de cada palavra do texto)."
      ],
      "metadata": {
        "id": "JhWVJtPmD14p"
      }
    },
    {
      "cell_type": "code",
      "source": [
        "texto14 = input(\"14) Digite um texto: \")\n",
        "tamanhos = [len(palavra) for palavra in texto14.split()]\n",
        "print(\"Tamanhos das palavras:\", tamanhos)"
      ],
      "metadata": {
        "colab": {
          "base_uri": "https://localhost:8080/"
        },
        "id": "T1PqkDqiBIBb",
        "outputId": "f83f0070-0dd2-4e9b-9d11-2e8f304c0993"
      },
      "execution_count": null,
      "outputs": [
        {
          "output_type": "stream",
          "name": "stdout",
          "text": [
            "14) Digite um texto: kawe is beautiful\n",
            "Tamanhos das palavras: [4, 2, 9]\n"
          ]
        }
      ]
    },
    {
      "cell_type": "markdown",
      "source": [
        "15) Crie uma função chamada ‘hoje()’ que receba uma lista de 3 elementos\n",
        "contendo uma data (dia, mês e ano). Então, a função deverá exibir a data\n",
        "no formato ‘dia/mês/ano’\n"
      ],
      "metadata": {
        "id": "5MleRY1yD6C3"
      }
    },
    {
      "cell_type": "code",
      "source": [
        "def hoje(data):\n",
        "    print(f\"15) {data[0]}/{data[1]}/{data[2]}\")\n"
      ],
      "metadata": {
        "id": "9XtscIRXBH_B"
      },
      "execution_count": null,
      "outputs": []
    },
    {
      "cell_type": "markdown",
      "source": [
        "16)Faça uma função que recebe três argumentos (a,b e c) e monta uma string\n",
        "contendo a equação de 1º grau ‘ax + b = c’. O programa deverá retornar\n",
        "essa string. Observações: I) o programa só deve funcionar para o\n",
        "coeficiente a diferente de zero II) se o b for diferente de zero, o sinal dele\n",
        "deverá aparecer afastado do número, como no exemplo acima. Se o b for\n",
        "zero, ele não deverá aparecer III) se o coeficiente a for 1 o valor não\n",
        "deverá aparecer, ficando apenas o ‘x’; se for -1 deverá aparecer apenas\n",
        "‘-x’.\n"
      ],
      "metadata": {
        "id": "3GsAiGCXD9kt"
      }
    },
    {
      "cell_type": "code",
      "source": [
        "def equacao1grau(a, b, c):\n",
        "    if a == 0:\n",
        "        return \"Coeficiente 'a' não pode ser zero.\"\n",
        "    eq = \"\"\n",
        "    if a == 1:\n",
        "        eq += \"x\"\n",
        "    elif a == -1:\n",
        "        eq += \"-x\"\n",
        "    else:\n",
        "        eq += f\"{a}x\"\n",
        "    if b > 0:\n",
        "        eq += f\" + {b}\"\n",
        "    elif b < 0:\n",
        "        eq += f\" - {abs(b)}\"\n",
        "    eq += f\" = {c}\"\n",
        "    return eq\n"
      ],
      "metadata": {
        "id": "z48yyiB-BH60"
      },
      "execution_count": null,
      "outputs": []
    },
    {
      "cell_type": "markdown",
      "source": [
        "17) Faça uma função que recebe um texto com uma equação de 1º grau e\n",
        "retorna os 3 coeficientes, a, b e c. A equação terá o formato ‘ax + b = c’,\n",
        "se o b for positivo, ‘ax – b = c’ se o b for negativo e ‘ax = c’ se o b for zero.\n",
        "O a pode ser positivo ou negativo, mas não zero. O c pode ser qualquer\n",
        "valor."
      ],
      "metadata": {
        "id": "Z9X7V-QOEA2R"
      }
    },
    {
      "cell_type": "code",
      "source": [
        "def extrair_coef(eq):\n",
        "    eq = eq.replace(\" \", \"\").replace(\"-\", \"+-\")\n",
        "    lhs, c = eq.split(\"=\")\n",
        "    c = int(c)\n",
        "    if \"x\" not in lhs:\n",
        "        return None\n",
        "    parts = lhs.split(\"+\")\n",
        "    parts = [p for p in parts if p]\n",
        "    a_str = parts[0].replace(\"x\", \"\")\n",
        "    a = int(a_str) if a_str not in [\"\", \"-\"] else (-1 if a_str == \"-\" else 1)\n",
        "    b = int(parts[1]) if len(parts) > 1 else 0\n",
        "    return a, b, c"
      ],
      "metadata": {
        "id": "RSN0GvebBH44"
      },
      "execution_count": null,
      "outputs": []
    },
    {
      "cell_type": "markdown",
      "source": [
        "18) Faça uma função que recebe uma string com uma equação de 1º grau\n",
        "do tipo ‘ax + b = c’ e mostre a solução passo-a-passo dessa equação.\n",
        "Exemplo: eq = ‘2x – 5 = 13’\n",
        "Etapa 1: ‘2x = 13 + 5’\n",
        "Etapa 2: ‘2x = 18’\n",
        "Etapa 3: ‘x = 18/2’\n",
        "Etapa 4: ‘x = 9’\n",
        "A função deverá mostrar a etapa 3 se o a for igual a 1 e não deverá\n",
        "mostrar a etapa 1 se o b for zero. Observe que a palavra “Etapa” e\n",
        "número seguinte são opcionais aparecerem na solução.\n"
      ],
      "metadata": {
        "id": "ihKq15VvEDfP"
      }
    },
    {
      "cell_type": "code",
      "source": [
        "def resolver_eq(eq):\n",
        "    a, b, c = extrair_coef(eq)\n",
        "    if b != 0:\n",
        "        print(f\"Etapa 1: {a}x = {c} {'+' if b < 0 else '-'} {abs(b)}\")\n",
        "        c = c + b\n",
        "    print(f\"Etapa 2: {a}x = {c}\")\n",
        "    if a != 1:\n",
        "        print(f\"Etapa 3: x = {c}/{a}\")\n",
        "        print(f\"Etapa 4: x = {c/a}\")\n",
        "    else:\n",
        "        print(f\"x = {c}\")"
      ],
      "metadata": {
        "id": "0j533wZvBH1t"
      },
      "execution_count": null,
      "outputs": []
    },
    {
      "cell_type": "markdown",
      "source": [
        "19) Faça uma função que recebe 3 valores e verifica se esses números\n",
        "formam um triângulo. Se formar, o programa deverá retornar True. Do\n",
        "contrário, deverá retornar False."
      ],
      "metadata": {
        "id": "j02RHzWoEGCt"
      }
    },
    {
      "cell_type": "code",
      "source": [
        "def forma_triangulo(a, b, c):\n",
        "    return a + b > c and a + c > b and b + c > a\n"
      ],
      "metadata": {
        "id": "UaH5DPlmBHzj"
      },
      "execution_count": null,
      "outputs": []
    },
    {
      "cell_type": "markdown",
      "source": [
        "20) Faça uma função que recebe 3 valores. Se esses 3 valores formarem um\n",
        "triângulo, o programa deverá calcular o perímetro e área desse triângulo\n",
        "e retornar esses dois valores. Utilize a função do exercício 15 para\n",
        "resolver esse exercício"
      ],
      "metadata": {
        "id": "_jt0IE6qEM7L"
      }
    },
    {
      "cell_type": "code",
      "source": [
        "def perimetro_area(a, b, c):\n",
        "    if forma_triangulo(a, b, c):\n",
        "        p = a + b + c\n",
        "        s = p / 2\n",
        "        area = (s*(s-a)*(s-b)*(s-c)) ** 0.5\n",
        "        return p, area\n",
        "    else:\n",
        "        return None"
      ],
      "metadata": {
        "id": "_ZTJ470CG8IP"
      },
      "execution_count": null,
      "outputs": []
    },
    {
      "cell_type": "markdown",
      "source": [
        "21) Faça uma função que recebe 3 valores. Caso esses valores formarem\n",
        "um triângulo, o programa deverá retornar as 3 alturas do triângulo em\n",
        "ordem crescente. Utilize as funções criadas anteriormente (15 e 16) para\n",
        "resolver esse problema. Obs.: é para o programa retornar 3 valores."
      ],
      "metadata": {
        "id": "FLsg123qHDSD"
      }
    },
    {
      "cell_type": "code",
      "source": [
        "def alturas_triangulo(a, b, c):\n",
        "    if not forma_triangulo(a, b, c):\n",
        "        return None\n",
        "    p, area = perimetro_area(a, b, c)\n",
        "    h1 = (2*area)/a\n",
        "    h2 = (2*area)/b\n",
        "    h3 = (2*area)/c\n",
        "    return sorted([h1, h2, h3])"
      ],
      "metadata": {
        "id": "nmAmzK-QBHxM"
      },
      "execution_count": null,
      "outputs": []
    },
    {
      "cell_type": "markdown",
      "source": [
        "22) Faça uma função chamada Matriz() que recebe dois números inteiros\n",
        "positivos (linhas e colunas) e um valor booleano e retorna uma matriz (lista\n",
        "de listas). Se o valor booleano for True, então a matriz deverá receber\n",
        "valores aleatórios entre -3 e 3. Se for False (valor default), deverá retornar\n",
        "uma matriz com todos os elementos iguais a zero.\n"
      ],
      "metadata": {
        "id": "ZEkq_ySeHPye"
      }
    },
    {
      "cell_type": "code",
      "source": [
        "def Matriz(linhas, colunas, aleatoria=False):\n",
        "    return [[random.randint(-3, 3) if aleatoria else 0 for _ in range(colunas)] for _ in range(linhas)]\n",
        "\n"
      ],
      "metadata": {
        "id": "aHCs9VYMBHu5"
      },
      "execution_count": null,
      "outputs": []
    },
    {
      "cell_type": "markdown",
      "source": [
        "23) Faça uma função chamada mostra_matriz() que recebe uma matriz e\n",
        "mostra essa matriz na tela. Observe que cada elemento da coluna deverá\n",
        "estar embaixo do outro.\n"
      ],
      "metadata": {
        "id": "xuj7eqEYHpOq"
      }
    },
    {
      "cell_type": "code",
      "source": [
        "def mostra_matriz(matriz):\n",
        "    for linha in matriz:\n",
        "        print(\" \".join(str(x) for x in linha))"
      ],
      "metadata": {
        "id": "ba2EUQu_Hlih"
      },
      "execution_count": null,
      "outputs": []
    },
    {
      "cell_type": "markdown",
      "source": [
        "24) Faça uma função chamada soma_matriz() que recebe duas matrizes e\n",
        "retorna uma matriz contendo a soma das matrizes dos argumentos."
      ],
      "metadata": {
        "id": "Lk21U-WoHVjE"
      }
    },
    {
      "cell_type": "code",
      "source": [
        "def soma_matriz(m1, m2):\n",
        "    return [[m1[i][j] + m2[i][j] for j in range(len(m1[0]))] for i in range(len(m1))]\n",
        "\n"
      ],
      "metadata": {
        "id": "sueBzdwJBHs2"
      },
      "execution_count": null,
      "outputs": []
    },
    {
      "cell_type": "markdown",
      "source": [
        "25) Faça uma função que chamada mult_matriz() que recebe duas matrizes\n",
        "e efetua o produto entre elas, retornando a matriz dos resultados.\n"
      ],
      "metadata": {
        "id": "oHkAwcbuHv_y"
      }
    },
    {
      "cell_type": "code",
      "source": [
        "def mult_matriz(m1, m2):\n",
        "    resultado = []\n",
        "    for i in range(len(m1)):\n",
        "        linha = []\n",
        "        for j in range(len(m2[0])):\n",
        "            s = sum(m1[i][k] * m2[k][j] for k in range(len(m2)))\n",
        "            linha.append(s)\n",
        "        resultado.append(linha)\n",
        "    return resultado\n"
      ],
      "metadata": {
        "id": "eBqSVSx8IGWO"
      },
      "execution_count": null,
      "outputs": []
    },
    {
      "cell_type": "markdown",
      "source": [
        "26) Faça uma função chamada determinante() que recebe uma matriz\n",
        "quadrada e retorna o determinante dessa matriz."
      ],
      "metadata": {
        "id": "YJICfby-HywK"
      }
    },
    {
      "cell_type": "code",
      "source": [
        "def determinante(m):\n",
        "    return (m[0][0]*(m[1][1]*m[2][2] - m[1][2]*m[2][1]) -\n",
        "            m[0][1]*(m[1][0]*m[2][2] - m[1][2]*m[2][0]) +\n",
        "            m[0][2]*(m[1][0]*m[2][1] - m[1][1]*m[2][0]))"
      ],
      "metadata": {
        "id": "Unw4IC8QBHqI"
      },
      "execution_count": null,
      "outputs": []
    },
    {
      "cell_type": "markdown",
      "source": [
        "27) Faça uma função que recebe uma matriz de ordem 3x3 e mostre essa\n",
        "matriz em tabuleiro (tipo jogo da velha) com esses valores.\n",
        "Exemplo:\n",
        "matriz =\n",
        " [[1, 2, 3],\n",
        " [4, 5, 6],\n",
        " [7, 8, 9]\n",
        " ]\n",
        "mostrar_tabuleiro(matriz)\n",
        "1 | 2 | 3\n",
        "---+---+---\n",
        "4 | 5 | 6\n",
        "---+---+---\n",
        "7 | 8 | 9"
      ],
      "metadata": {
        "id": "aLrzjlBVH1hK"
      }
    },
    {
      "cell_type": "code",
      "source": [
        "def mostrar_tabuleiro(m):\n",
        "    for i in range(3):\n",
        "        print(\" | \".join(str(m[i][j]) for j in range(3)))\n",
        "        if i < 2:\n",
        "            print(\"---+---+---\")\n"
      ],
      "metadata": {
        "id": "nTfS5CJXCUll"
      },
      "execution_count": null,
      "outputs": []
    },
    {
      "cell_type": "markdown",
      "source": [
        "28) Análoga a anterior, faça uma função chamada ‘mostrar_tabuleiro()’ que\n",
        "recebe uma matriz de strings, contendo os elementos ‘X’, ‘O’ ou ‘ ’\n",
        "(espaço vazio), e mostra esses elementos em um tabuleiro.\n",
        "Exemplo:\n",
        "tabuleiro =\n",
        " [['X', 'O', 'X'],\n",
        " [' ', 'O', ' '],\n",
        " ['X', ' ', 'O']]\n",
        "mostra_tabuleiro(tabuleiro)\n",
        "X | O | X\n",
        "---+---+---\n",
        " | O |\n",
        "---+---+---\n",
        "X | | O"
      ],
      "metadata": {
        "id": "7FQkoVgtH4mX"
      }
    },
    {
      "cell_type": "code",
      "source": [
        "def mostrar_tabuleiro_strings(tab):\n",
        "    for i in range(3):\n",
        "        print(\" | \".join(tab[i]))\n",
        "        if i < 2:\n",
        "            print(\"---+---+---\")"
      ],
      "metadata": {
        "id": "dtzNzJcwCUi-"
      },
      "execution_count": null,
      "outputs": []
    },
    {
      "cell_type": "markdown",
      "source": [
        "29) Faça uma função que recebe uma matriz 3x3 de strings, como se fosse\n",
        "um jogo da velha, e verifica se há algum vencedor. Há vencedor se uma\n",
        "linha, uma coluna ou uma diagonal contém 3 vezes o mesmo elemento\n",
        "(‘X’ ou ‘O’). A função deverá retornar 1 se há um vencedor for ‘X’, 2 se o\n",
        "vencedor for ‘O’ ou zero se não houver vencedor."
      ],
      "metadata": {
        "id": "33nm4IEpFFOG"
      }
    },
    {
      "cell_type": "code",
      "source": [
        "def verifica_vencedor(tab):\n",
        "    for i in range(3):\n",
        "        if tab[i][0] == tab[i][1] == tab[i][2] != ' ':\n",
        "            return 1 if tab[i][0] == 'X' else 2\n",
        "        if tab[0][i] == tab[1][i] == tab[2][i] != ' ':\n",
        "            return 1 if tab[0][i] == 'X' else 2\n",
        "    if tab[0][0] == tab[1][1] == tab[2][2] != ' ':\n",
        "        return 1 if tab[0][0] == 'X' else 2\n",
        "    if tab[0][2] == tab[1][1] == tab[2][0] != ' ':\n",
        "        return 1 if tab[0][2] == 'X' else 2\n",
        "    return 0"
      ],
      "metadata": {
        "id": "QBKg-LCACUg_"
      },
      "execution_count": null,
      "outputs": []
    },
    {
      "cell_type": "markdown",
      "source": [
        "30) Faça um programa que simule um jogo da velha. Ele deverá pedir para o\n",
        "jogador 1 jogar ‘X’ em uma das posições vazia do tabuleiro. Caso ele\n",
        "jogue em uma posição ocupada, o programa deverá informar isso e pedir\n",
        "uma nova posição, fazendo isso enquanto o jogador escolher posições\n",
        "inválidas. Assim que ele jogar uma posição válida, verificar se há algum\n",
        "vencedor. Depois, o mesmo para o jogador 2, colocando o ‘O’ na posição\n",
        "escolhida. Mostre cada etapa após a escolha de uma posição válida\n",
        "escolhida."
      ],
      "metadata": {
        "id": "-z1A6dFRIXNv"
      }
    },
    {
      "cell_type": "code",
      "source": [
        "def jogo_da_velha():\n",
        "    tabuleiro = [[\" \" for _ in range(3)] for _ in range(3)]\n",
        "    jogador = \"X\"\n",
        "    while True:\n",
        "        mostrar_tabuleiro_strings(tabuleiro)\n",
        "        print(f\"Jogador {jogador}\")\n",
        "        linha = int(input(\"Linha (0-2): \"))\n",
        "        coluna = int(input(\"Coluna (0-2): \"))\n",
        "        if tabuleiro[linha][coluna] != \" \":\n",
        "            print(\"Posição ocupada. Tente de novo.\")\n",
        "            continue\n",
        "        tabuleiro[linha][coluna] = jogador\n",
        "        vencedor = verifica_vencedor(tabuleiro)\n",
        "        if vencedor:\n",
        "            mostrar_tabuleiro_strings(tabuleiro)\n",
        "            print(f\"Jogador {'X' if vencedor == 1 else 'O'} venceu!\")\n",
        "            break\n",
        "        jogador = \"O\" if jogador == \"X\" else \"X\"\n"
      ],
      "metadata": {
        "id": "x_lXJNS6CUef"
      },
      "execution_count": null,
      "outputs": []
    },
    {
      "cell_type": "code",
      "source": [],
      "metadata": {
        "id": "wnkDofBACUbu"
      },
      "execution_count": null,
      "outputs": []
    },
    {
      "cell_type": "code",
      "source": [],
      "metadata": {
        "id": "GSYhPU9uCUXO"
      },
      "execution_count": null,
      "outputs": []
    },
    {
      "cell_type": "code",
      "source": [],
      "metadata": {
        "id": "Lj-eybyXBHks"
      },
      "execution_count": null,
      "outputs": []
    }
  ]
}